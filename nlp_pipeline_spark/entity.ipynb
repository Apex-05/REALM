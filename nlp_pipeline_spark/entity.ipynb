{
 "cells": [
  {
   "cell_type": "code",
   "execution_count": 1,
   "id": "edb5fa1a",
   "metadata": {},
   "outputs": [],
   "source": [
    "import os\n",
    "import pandas as pd\n",
    "import spacy\n",
    "import subprocess\n",
    "import glob\n"
   ]
  },
  {
   "cell_type": "code",
   "execution_count": 2,
   "id": "dcd9ee66",
   "metadata": {},
   "outputs": [],
   "source": [
    "\n",
    "# CONFIG\n",
    "\n",
    "input_path = r\"hdfs://localhost:9000/user/adarsh/realtime_pipeline/raw_batches\"\n",
    "local_fallback_path = r\"E:\\Coding\\BDA-PySpark\\realtime-pipeline\\reddit_streaming\\raw_batches\"\n",
    "hadoop_bin = r\"E:\\hadoop\\bin\\hdfs.cmd\"  # Full path to your hdfs.cmd file\n",
    "\n",
    "output_dir = r\"E:\\Coding\\BDA-PySpark\\realtime-pipeline\\results_spark\"\n",
    "final_output_file = os.path.join(output_dir, \"entity_spark.csv\")\n",
    "\n",
    "os.makedirs(output_dir, exist_ok=True)"
   ]
  },
  {
   "cell_type": "code",
   "execution_count": 3,
   "id": "ebe95f68",
   "metadata": {},
   "outputs": [],
   "source": [
    "# HELPER: READ FILES FROM HDFS OR LOCAL\n",
    "\n",
    "def read_hdfs_texts(hdfs_path):\n",
    "    try:\n",
    "        print(f\"Attempting to read from HDFS: {hdfs_path}\")\n",
    "        result = subprocess.run(\n",
    "            [hadoop_bin, \"dfs\", \"-cat\", f\"{hdfs_path}/*.txt\"],\n",
    "            capture_output=True,\n",
    "            text=True,\n",
    "            check=True\n",
    "        )\n",
    "        lines = [line.strip() for line in result.stdout.split(\"\\n\") if line.strip()]\n",
    "        print(f\"Loaded {len(lines)} comments from HDFS.\")\n",
    "        return lines\n",
    "\n",
    "    except FileNotFoundError:\n",
    "        print(\"Hadoop CLI not found. Falling back to local folder...\")\n",
    "    except subprocess.CalledProcessError as e:\n",
    "        print(f\"Error reading from HDFS: {e}. Falling back to local folder\")\n",
    "\n",
    "    # Local fallback\n",
    "    local_files = glob.glob(os.path.join(local_fallback_path, \"*.txt\"))\n",
    "    if not local_files:\n",
    "        print(\"No local batch files found.\")\n",
    "        return []\n",
    "    all_lines = []\n",
    "    for f in local_files:\n",
    "        with open(f, \"r\", encoding=\"utf-8\", errors=\"ignore\") as infile:\n",
    "            all_lines.extend([line.strip() for line in infile if line.strip()])\n",
    "    print(f\"Loaded {len(all_lines)} comments from local batches.\")\n",
    "    return all_lines\n",
    "\n",
    "# ENTITY EXTRACTION LOGIC\n",
    "\n",
    "NLP = spacy.load(\"en_core_web_sm\")\n",
    "\n",
    "def run_entity_extraction(comments):\n",
    "    result_comments = []\n",
    "    result_entities = []\n",
    "\n",
    "    for text in comments:\n",
    "        text = text.strip()\n",
    "        if not text or len(text.split()) < 5:\n",
    "            continue\n",
    "        try:\n",
    "            doc = NLP(text)\n",
    "            ent_list = [f\"{ent.text}:{ent.label_}\" for ent in doc.ents]\n",
    "            entities_str = \", \".join(ent_list) if ent_list else \"No entities found\"\n",
    "            result_comments.append(text)\n",
    "            result_entities.append(entities_str)\n",
    "        except Exception as e:\n",
    "            print(f\"Error processing text: {e}\")\n",
    "            result_comments.append(text)\n",
    "            result_entities.append(\"Error processing\")\n",
    "\n",
    "    df = pd.DataFrame({\n",
    "        \"comment\": result_comments,\n",
    "        \"entities\": result_entities\n",
    "    })\n",
    "\n",
    "    # Summary\n",
    "    \n",
    "    entity_types = {}\n",
    "    for ent_str in result_entities:\n",
    "        if ent_str and ent_str not in [\"No entities found\", \"Error processing\"]:\n",
    "            for entity_pair in ent_str.split(\", \"):\n",
    "                if \":\" in entity_pair:\n",
    "                    _, ent_label = entity_pair.rsplit(\":\", 1)\n",
    "                    entity_types[ent_label] = entity_types.get(ent_label, 0) + 1\n",
    "\n",
    "    summary = pd.Series(entity_types) if entity_types else pd.Series(dtype=int)\n",
    "    return df, summary\n",
    "\n",
    "\n",
    "\n",
    "   "
   ]
  },
  {
   "cell_type": "code",
   "execution_count": 4,
   "id": "96a476b6",
   "metadata": {},
   "outputs": [
    {
     "name": "stdout",
     "output_type": "stream",
     "text": [
      "Starting entity extraction pipeline...\n",
      "Attempting to read from HDFS: hdfs://localhost:9000/user/adarsh/realtime_pipeline/raw_batches\n",
      "Loaded 134 comments from HDFS.\n",
      "Entities saved to: E:\\Coding\\BDA-PySpark\\realtime-pipeline\\results_spark\\entity_spark.csv\n"
     ]
    }
   ],
   "source": [
    "# MAIN EXECUTION\n",
    "if __name__ == \"__main__\":\n",
    "    print(\"Starting entity extraction pipeline...\")\n",
    "\n",
    "    comments = read_hdfs_texts(input_path)\n",
    "    if not comments:\n",
    "        print(\"No data found in HDFS or local path.\")\n",
    "        exit(0)\n",
    "\n",
    "    df_entities, summary = run_entity_extraction(comments)\n",
    "\n",
    "    # Save results\n",
    "    df_entities.to_csv(final_output_file, index=False, encoding=\"utf-8\")\n",
    "    print(f\"Entities saved to: {final_output_file}\")\n"
   ]
  }
 ],
 "metadata": {
  "kernelspec": {
   "display_name": "Python (PySpark 3.10)",
   "language": "python",
   "name": "pyspark-env"
  },
  "language_info": {
   "codemirror_mode": {
    "name": "ipython",
    "version": 3
   },
   "file_extension": ".py",
   "mimetype": "text/x-python",
   "name": "python",
   "nbconvert_exporter": "python",
   "pygments_lexer": "ipython3",
   "version": "3.10.11"
  }
 },
 "nbformat": 4,
 "nbformat_minor": 5
}
